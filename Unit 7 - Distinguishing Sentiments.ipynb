{
 "cells": [
  {
   "cell_type": "markdown",
   "metadata": {},
   "source": [
    "#### Import Dependencies"
   ]
  },
  {
   "cell_type": "code",
   "execution_count": 1,
   "metadata": {},
   "outputs": [],
   "source": [
    "import matplotlib.pyplot as plt\n",
    "import json\n",
    "import numpy as np\n",
    "import pandas as pd\n",
    "import tweepy\n",
    "from config import consumer_key, consumer_secret, access_token, access_token_secret"
   ]
  },
  {
   "cell_type": "markdown",
   "metadata": {},
   "source": [
    "#### Set up VADER and Tweepy for analysis"
   ]
  },
  {
   "cell_type": "code",
   "execution_count": 2,
   "metadata": {},
   "outputs": [],
   "source": [
    "# Import and Initialize Sentiment Analyzer\n",
    "from vaderSentiment.vaderSentiment import SentimentIntensityAnalyzer\n",
    "analyzer = SentimentIntensityAnalyzer()"
   ]
  },
  {
   "cell_type": "code",
   "execution_count": 3,
   "metadata": {},
   "outputs": [],
   "source": [
    "# Twitter API Keys\n",
    "consumer_key = consumer_key\n",
    "consumer_secret = consumer_secret\n",
    "access_token = access_token\n",
    "access_token_secret = access_token_secret"
   ]
  },
  {
   "cell_type": "code",
   "execution_count": 4,
   "metadata": {},
   "outputs": [],
   "source": [
    "# Setup Tweepy API Authentication\n",
    "auth = tweepy.OAuthHandler(consumer_key, consumer_secret)\n",
    "auth.set_access_token(access_token, access_token_secret)\n",
    "api = tweepy.API(auth, parser=tweepy.parsers.JSONParser())"
   ]
  },
  {
   "cell_type": "markdown",
   "metadata": {},
   "source": [
    "#### Set up account for tweet retrieval, starting with CNN"
   ]
  },
  {
   "cell_type": "code",
   "execution_count": 5,
   "metadata": {},
   "outputs": [],
   "source": [
    "# Target User\n",
    "user1 = \"@CNNbrk\""
   ]
  },
  {
   "cell_type": "code",
   "execution_count": 6,
   "metadata": {},
   "outputs": [],
   "source": [
    "# Grab 100 tweets\n",
    "news_tweets1 = api.user_timeline(screen_name = user1, count=100, result_type=\"recent\")"
   ]
  },
  {
   "cell_type": "markdown",
   "metadata": {},
   "source": [
    "#### Capture sentiment information"
   ]
  },
  {
   "cell_type": "code",
   "execution_count": 7,
   "metadata": {},
   "outputs": [],
   "source": [
    "# Counter\n",
    "counter = 1\n",
    "\n",
    "#Variables for holding sentiments\n",
    "sentiments1 = []\n",
    "\n",
    "# Loop through all tweets\n",
    "for tweet in news_tweets1:\n",
    "    \n",
    "    # Run Vader Analysis on each tweet\n",
    "    text = tweet[\"text\"]\n",
    "    compound = analyzer.polarity_scores(tweet[\"text\"])[\"compound\"]\n",
    "    pos = analyzer.polarity_scores(tweet[\"text\"])[\"pos\"]\n",
    "    neu = analyzer.polarity_scores(tweet[\"text\"])[\"neu\"]\n",
    "    neg = analyzer.polarity_scores(tweet[\"text\"])[\"neg\"]\n",
    "\n",
    "    # Add each value to a list\n",
    "    sentiments1.append({\"Text\": text,\n",
    "                        \"Date\": tweet[\"created_at\"], \n",
    "                        \"Compound\": compound,\n",
    "                        \"Positive\": pos,\n",
    "                        \"Negative\": neu,\n",
    "                        \"Neutral\": neg,\n",
    "                        \"Tweets Ago\": counter})\n",
    "    \n",
    "    # Add to counter \n",
    "    counter += 1\n"
   ]
  },
  {
   "cell_type": "markdown",
   "metadata": {},
   "source": [
    "#### Create csv file"
   ]
  },
  {
   "cell_type": "code",
   "execution_count": 8,
   "metadata": {},
   "outputs": [],
   "source": [
    "# Convert sentiments to DataFrame\n",
    "sentiments1_df = pd.DataFrame.from_dict(sentiments1)\n",
    "sentiments1_df.to_csv('CNNbrk_sentiments.csv')\n",
    "\n",
    "#Take mean compound score for plot\n",
    "CNN_compound = sentiments1_df[\"Compound\"].mean()"
   ]
  },
  {
   "cell_type": "markdown",
   "metadata": {},
   "source": [
    "#### Repeat for Fox news"
   ]
  },
  {
   "cell_type": "code",
   "execution_count": 9,
   "metadata": {},
   "outputs": [],
   "source": [
    "# Target User\n",
    "user2 = \"@FoxNews\"\n",
    "\n",
    "# Grab 100 tweets\n",
    "news_tweets2 = api.user_timeline(screen_name = user2, count=100, result_type=\"recent\")\n",
    "\n",
    "# Counter\n",
    "counter = 1\n",
    "\n",
    "#Variables for holding sentiments\n",
    "sentiments2 = []\n",
    "\n",
    "# Loop through all tweets\n",
    "for tweet in news_tweets2:\n",
    "    \n",
    "    # Run Vader Analysis on each tweet\n",
    "    text = tweet[\"text\"]\n",
    "    compound = analyzer.polarity_scores(tweet[\"text\"])[\"compound\"]\n",
    "    pos = analyzer.polarity_scores(tweet[\"text\"])[\"pos\"]\n",
    "    neu = analyzer.polarity_scores(tweet[\"text\"])[\"neu\"]\n",
    "    neg = analyzer.polarity_scores(tweet[\"text\"])[\"neg\"]\n",
    "\n",
    "    # Add each value to a list\n",
    "    sentiments2.append({\"Text\": text,\n",
    "                        \"Date\": tweet[\"created_at\"], \n",
    "                        \"Compound\": compound,\n",
    "                        \"Positive\": pos,\n",
    "                        \"Negative\": neu,\n",
    "                        \"Neutral\": neg,\n",
    "                        \"Tweets Ago\": counter})\n",
    "    \n",
    "    # Add to counter \n",
    "    counter += 1\n",
    "    \n",
    "# Convert sentiments to DataFrame\n",
    "sentiments2_df = pd.DataFrame.from_dict(sentiments2)\n",
    "sentiments2_df.to_csv('FoxNews_sentiments.csv')\n",
    "\n",
    "#Take mean compound score for plot\n",
    "Fox_compound = sentiments2_df[\"Compound\"].mean()"
   ]
  },
  {
   "cell_type": "markdown",
   "metadata": {},
   "source": [
    "#### Now, New York Times"
   ]
  },
  {
   "cell_type": "code",
   "execution_count": 10,
   "metadata": {},
   "outputs": [],
   "source": [
    "# Target User\n",
    "user3 = \"@nytimes\"\n",
    "\n",
    "# Grab 100 tweets\n",
    "news_tweets3 = api.user_timeline(screen_name = user3, count=100, result_type=\"recent\")\n",
    "\n",
    "# Counter\n",
    "counter = 1\n",
    "\n",
    "#Variables for holding sentiments\n",
    "sentiments3 = []\n",
    "\n",
    "# Loop through all tweets\n",
    "for tweet in news_tweets3:\n",
    "    \n",
    "    # Run Vader Analysis on each tweet\n",
    "    text = tweet[\"text\"]\n",
    "    compound = analyzer.polarity_scores(tweet[\"text\"])[\"compound\"]\n",
    "    pos = analyzer.polarity_scores(tweet[\"text\"])[\"pos\"]\n",
    "    neu = analyzer.polarity_scores(tweet[\"text\"])[\"neu\"]\n",
    "    neg = analyzer.polarity_scores(tweet[\"text\"])[\"neg\"]\n",
    "\n",
    "    # Add each value to a list\n",
    "    sentiments3.append({\"Text\": text,\n",
    "                        \"Date\": tweet[\"created_at\"], \n",
    "                        \"Compound\": compound,\n",
    "                        \"Positive\": pos,\n",
    "                        \"Negative\": neu,\n",
    "                        \"Neutral\": neg,\n",
    "                        \"Tweets Ago\": counter})\n",
    "    \n",
    "    # Add to counter \n",
    "    counter += 1\n",
    "    \n",
    "# Convert sentiments to DataFrame\n",
    "sentiments3_df = pd.DataFrame.from_dict(sentiments3)\n",
    "sentiments3_df.to_csv('NewYorkTimes_sentiments.csv')\n",
    "\n",
    "#Take mean compound score for plot\n",
    "NYT_compound = sentiments3_df[\"Compound\"].mean()"
   ]
  },
  {
   "cell_type": "markdown",
   "metadata": {},
   "source": [
    "#### BBC"
   ]
  },
  {
   "cell_type": "code",
   "execution_count": 11,
   "metadata": {},
   "outputs": [],
   "source": [
    "# Target User\n",
    "user4 = \"@BBC\"\n",
    "\n",
    "# Grab 100 tweets\n",
    "news_tweets4 = api.user_timeline(screen_name = user4, count=100, result_type=\"recent\")\n",
    "\n",
    "# Counter\n",
    "counter = 1\n",
    "\n",
    "#Variables for holding sentiments\n",
    "sentiments4 = []\n",
    "\n",
    "# Loop through all tweets\n",
    "for tweet in news_tweets4:\n",
    "    \n",
    "    # Run Vader Analysis on each tweet\n",
    "    text = tweet[\"text\"]\n",
    "    compound = analyzer.polarity_scores(tweet[\"text\"])[\"compound\"]\n",
    "    pos = analyzer.polarity_scores(tweet[\"text\"])[\"pos\"]\n",
    "    neu = analyzer.polarity_scores(tweet[\"text\"])[\"neu\"]\n",
    "    neg = analyzer.polarity_scores(tweet[\"text\"])[\"neg\"]\n",
    "\n",
    "    # Add each value to a list\n",
    "    sentiments4.append({\"Text\": text,\n",
    "                        \"Date\": tweet[\"created_at\"], \n",
    "                        \"Compound\": compound,\n",
    "                        \"Positive\": pos,\n",
    "                        \"Negative\": neu,\n",
    "                        \"Neutral\": neg,\n",
    "                        \"Tweets Ago\": counter})\n",
    "    \n",
    "    # Add to counter \n",
    "    counter += 1\n",
    "    \n",
    "# Convert sentiments to DataFrame\n",
    "sentiments4_df = pd.DataFrame.from_dict(sentiments4)\n",
    "sentiments4_df.to_csv('BBC_sentiments.csv')\n",
    "\n",
    "#Take mean compound score for plot\n",
    "BBC_compound = sentiments4_df[\"Compound\"].mean()"
   ]
  },
  {
   "cell_type": "markdown",
   "metadata": {},
   "source": [
    "#### CBS"
   ]
  },
  {
   "cell_type": "code",
   "execution_count": 12,
   "metadata": {},
   "outputs": [],
   "source": [
    "# Target User\n",
    "user5 = \"@CBS\"\n",
    "\n",
    "# Grab 100 tweets\n",
    "news_tweets5 = api.user_timeline(screen_name = user5, count=100, result_type=\"recent\")\n",
    "\n",
    "# Counter\n",
    "counter = 1\n",
    "\n",
    "#Variables for holding sentiments\n",
    "sentiments5 = []\n",
    "\n",
    "# Loop through all tweets\n",
    "for tweet in news_tweets5:\n",
    "    \n",
    "    # Run Vader Analysis on each tweet\n",
    "    text = tweet[\"text\"]\n",
    "    compound = analyzer.polarity_scores(tweet[\"text\"])[\"compound\"]\n",
    "    pos = analyzer.polarity_scores(tweet[\"text\"])[\"pos\"]\n",
    "    neu = analyzer.polarity_scores(tweet[\"text\"])[\"neu\"]\n",
    "    neg = analyzer.polarity_scores(tweet[\"text\"])[\"neg\"]\n",
    "    tweets_ago = counter\n",
    "\n",
    "    # Add each value to a list\n",
    "    sentiments5.append({\"Text\": text,\n",
    "                        \"Date\": tweet[\"created_at\"], \n",
    "                        \"Compound\": compound,\n",
    "                        \"Positive\": pos,\n",
    "                        \"Negative\": neu,\n",
    "                        \"Neutral\": neg,\n",
    "                        \"Tweets Ago\": counter})\n",
    "    \n",
    "    # Add to counter \n",
    "    counter += 1\n",
    "    \n",
    "# Convert sentiments to DataFrame\n",
    "sentiments5_df = pd.DataFrame.from_dict(sentiments5)\n",
    "sentiments5_df.to_csv('CBS_sentiments.csv')\n",
    "\n",
    "#Take mean compound score for plot\n",
    "CBS_compound = sentiments5_df[\"Compound\"].mean()"
   ]
  },
  {
   "cell_type": "markdown",
   "metadata": {},
   "source": [
    "#### Do past 100 tweets plot"
   ]
  },
  {
   "cell_type": "code",
   "execution_count": 13,
   "metadata": {},
   "outputs": [
    {
     "data": {
      "image/png": "[encoded data removed]",
      "text/plain": [
       "<matplotlib.figure.Figure at 0x204bb1460b8>"
      ]
     },
     "metadata": {},
     "output_type": "display_data"
    }
   ],
   "source": [
    "# Create plot\n",
    "x1_vals = sentiments1_df[\"Tweets Ago\"]\n",
    "y1_vals = sentiments1_df[\"Compound\"]\n",
    "plt.scatter(x1_vals, y1_vals, marker=\"o\", color = 'blue',  alpha=0.8, edgecolors = 'black')\n",
    "x2_vals = sentiments2_df[\"Tweets Ago\"]\n",
    "y2_vals = sentiments2_df[\"Compound\"]\n",
    "plt.scatter(x2_vals, y2_vals, marker=\"o\", color = 'yellow',  alpha=0.8, edgecolors = 'black')\n",
    "x3_vals = sentiments3_df[\"Tweets Ago\"]\n",
    "y3_vals = sentiments3_df[\"Compound\"]\n",
    "plt.scatter(x3_vals, y3_vals, marker=\"o\", color = 'red',  alpha=0.8, edgecolors = 'black')\n",
    "x4_vals = sentiments4_df[\"Tweets Ago\"]\n",
    "y4_vals = sentiments4_df[\"Compound\"]\n",
    "plt.scatter(x4_vals, y4_vals, marker=\"o\", color = 'green',  alpha=0.8, edgecolors = 'black')\n",
    "x5_vals = sentiments5_df[\"Tweets Ago\"]\n",
    "y5_vals = sentiments5_df[\"Compound\"]\n",
    "plt.scatter(x5_vals, y5_vals, marker=\"o\", color = 'skyblue',  alpha=0.8, edgecolors = 'black')\n",
    "\n",
    "# Incorporate the other graph properties\n",
    "plt.grid(b=True, which='major', axis='both')\n",
    "plt.title(\"Sentiment Analysis of Media Tweets (06/09/18)\")\n",
    "plt.xlim([x1_vals.max(),x1_vals.min()])\n",
    "plt.ylabel(\"Tweet Polarity\")\n",
    "plt.xlabel(\"Tweets Ago\")\n",
    "plt.savefig('Sentiment Analysis of Past 100 Tweets')\n",
    "plt.show()"
   ]
  },
  {
   "cell_type": "markdown",
   "metadata": {},
   "source": [
    "##### *Note, for the above graph I could not figure out how to get a legend on the outside of the plot. CNN is in blue, Fox in yellow, NYT in red, BCC in green and CBS in sky blue."
   ]
  },
  {
   "cell_type": "markdown",
   "metadata": {},
   "source": [
    "#### Build overall media sentiment graph"
   ]
  },
  {
   "cell_type": "code",
   "execution_count": 14,
   "metadata": {},
   "outputs": [
    {
     "data": {
      "image/png": "[encoded data removed]",
      "text/plain": [
       "<matplotlib.figure.Figure at 0x204baee8e48>"
      ]
     },
     "metadata": {},
     "output_type": "display_data"
    }
   ],
   "source": [
    "# Create a dataframe containing the average compound data for each network\n",
    "Network_df = pd.DataFrame({\"CNN\": CNN_compound, \"Fox\": Fox_compound, \"NYT\": NYT_compound, \n",
    "                \"BBC\": BBC_compound, \"CBS\": CBS_compound}, index=[3])\n",
    "Network_df.plot.bar()\n",
    "plt.grid(b=True, which='major', axis='both')\n",
    "plt.title(\"Sentiment Analysis of Media Tweets (06/09/18)\")\n",
    "plt.ylabel(\"Tweet Polarity\")\n",
    "plt.savefig('Overall Media Sentiment.png')\n",
    "plt.show()"
   ]
  },
  {
   "cell_type": "code",
   "execution_count": null,
   "metadata": {},
   "outputs": [],
   "source": []
  }
 ],
 "metadata": {
  "kernelspec": {
   "display_name": "Python 3",
   "language": "python",
   "name": "python3"
  },
  "language_info": {
   "codemirror_mode": {
    "name": "ipython",
    "version": 3
   },
   "file_extension": ".py",
   "mimetype": "text/x-python",
   "name": "python",
   "nbconvert_exporter": "python",
   "pygments_lexer": "ipython3",
   "version": "3.6.4"
  }
 },
 "nbformat": 4,
 "nbformat_minor": 2
}
